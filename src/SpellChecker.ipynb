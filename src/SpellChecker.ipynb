{
 "cells": [
  {
   "cell_type": "markdown",
   "metadata": {
    "id": "3i3m9JjeM5U5"
   },
   "source": [
    "# **Programming Assessment \\#4**\n",
    "\n",
    "Names: ABERIN, Shawn,   LIM, Kyle,  SINGSON, Raymond\n",
    "\n",
    "More information on the assessment is found in our Canvas course."
   ]
  },
  {
   "cell_type": "markdown",
   "metadata": {
    "id": "HxtmCAZwNoeU"
   },
   "source": [
    "# **Load Data**\n",
    "\n",
    "*While you don't have to separate your code into blocks, it might be easier if you separated loading your data from actually implementation of your code. Consider placing all loading of data into the code block below.*"
   ]
  },
  {
   "cell_type": "code",
   "execution_count": 84,
   "metadata": {
    "colab": {
     "base_uri": "https://localhost:8080/"
    },
    "id": "ThpFEZK8b9-f",
    "outputId": "ede9890d-71a8-4a21-9fc6-e69105e0d6d7"
   },
   "outputs": [
    {
     "name": "stdout",
     "output_type": "stream",
     "text": [
      "      error  count         P\n",
      "0       e|i    917  0.023469\n",
      "1       a|e    856  0.021908\n",
      "2       i|e    771  0.019732\n",
      "3       e|a    749  0.019169\n",
      "4       a|i    559  0.014307\n",
      "...     ...    ...       ...\n",
      "1582     |c      1  0.000026\n",
      "1583     |a      1  0.000026\n",
      "1584     |'      1  0.000026\n",
      "1585    w|       1  0.000026\n",
      "1586   t|t       1  0.000026\n",
      "\n",
      "[1587 rows x 3 columns]\n"
     ]
    }
   ],
   "source": [
    "# The code is defining a function called `make_p` that takes a DataFrame `df` as input.\n",
    "# lang must contain a column 'count' that contains number types\n",
    "#load error data\n",
    "\n",
    "import pandas as pd\n",
    "def make_p(pd):\n",
    "    total = pd['count'].sum()\n",
    "    inv = 1/total\n",
    "    pd['P'] = pd['count']*inv\n",
    "    return pd\n",
    "data = []\n",
    "# Trust taht python will open it correctly.\n",
    "with open(\"count_1edit.txt\", \"r\") as f:\n",
    "    x = f.read().splitlines()\n",
    "    gen = (dat.split('\\t') for dat in x)\n",
    "    data = [(rec[0], int(rec[1])) for rec in gen if len(rec) == 2]\n",
    "\n",
    "err = pd.DataFrame.from_records(data, columns=['error', 'count'])\n",
    "err = make_p(err)\n",
    "\n",
    "print(err)\n"
   ]
  },
  {
   "cell_type": "code",
   "execution_count": 85,
   "metadata": {
    "colab": {
     "base_uri": "https://localhost:8080/"
    },
    "id": "CbvxU2oTM4IV",
    "outputId": "e38d9b9f-30e7-41ca-e4dc-9bedbef112ec"
   },
   "outputs": [
    {
     "name": "stderr",
     "output_type": "stream",
     "text": [
      "[nltk_data] Downloading package gutenberg to\n",
      "[nltk_data]     C:\\Users\\shawn\\AppData\\Roaming\\nltk_data...\n",
      "[nltk_data]   Package gutenberg is already up-to-date!\n"
     ]
    },
    {
     "data": {
      "text/plain": [
       "True"
      ]
     },
     "execution_count": 85,
     "metadata": {},
     "output_type": "execute_result"
    }
   ],
   "source": [
    "#loading corpus files\n",
    "import nltk\n",
    "nltk.download('gutenberg')\n",
    "# nltk.corpus.gutenberg.fileids()"
   ]
  },
  {
   "cell_type": "code",
   "execution_count": 86,
   "metadata": {
    "colab": {
     "base_uri": "https://localhost:8080/"
    },
    "id": "gGy8Hv56b9-h",
    "outputId": "9afc220e-d76e-4c22-8233-3015a6432b2d"
   },
   "outputs": [
    {
     "name": "stdout",
     "output_type": "stream",
     "text": [
      "Extracting all documents from NLTK's Project Gutenberg Collection...\n"
     ]
    }
   ],
   "source": [
    "from collections import Counter\n",
    "from nltk.probability import FreqDist\n",
    "import string\n",
    "import time\n",
    "from statistics import mean \n",
    "print(\"Extracting all documents from NLTK's Project Gutenberg Collection...\")\n",
    "all_words = Counter()\n",
    "\n",
    "for filename in nltk.corpus.gutenberg.fileids():\n",
    "    word = (word.lower() for word in nltk.corpus.gutenberg.words(filename) if word.isalpha())\n",
    "    all_words.update(word)\n",
    "\n",
    "\n",
    "lang = pd.DataFrame.from_dict(all_words, orient='index').reset_index()\n",
    "# print(mean(t),lang)"
   ]
  },
  {
   "cell_type": "code",
   "execution_count": 87,
   "metadata": {
    "colab": {
     "base_uri": "https://localhost:8080/"
    },
    "id": "Ni5fgYiBb9-i",
    "outputId": "e9eb2c28-97d5-4970-d446-0c7b43cd0e97"
   },
   "outputs": [
    {
     "name": "stdout",
     "output_type": "stream",
     "text": [
      "           word  count             P\n",
      "0          emma    866  4.055446e-04\n",
      "1            by   8512  3.986138e-03\n",
      "2          jane    303  1.418938e-04\n",
      "3        austen      3  1.404889e-06\n",
      "4        volume     32  1.498548e-05\n",
      "...         ...    ...           ...\n",
      "41482  endowing      1  4.682963e-07\n",
      "41483   delving      1  4.682963e-07\n",
      "41484  germinal      1  4.682963e-07\n",
      "41485   blither      1  4.682963e-07\n",
      "41486  ushering      1  4.682963e-07\n",
      "\n",
      "[41487 rows x 3 columns]\n"
     ]
    }
   ],
   "source": [
    "lang = lang.rename(columns={'index':'word', 0:'count'})\n",
    "lang = make_p(lang)\n",
    "\n",
    "print(lang)"
   ]
  },
  {
   "cell_type": "markdown",
   "metadata": {
    "id": "r8YCZLi-N0uR"
   },
   "source": [
    "# **Noisy Channel Model Implementation**\n",
    "\n",
    "*Again, you don't have to follow this directly, but consider placing your implementation of the model in the code block below.*"
   ]
  },
  {
   "cell_type": "code",
   "execution_count": 88,
   "metadata": {
    "id": "gL_6my_6b9-j"
   },
   "outputs": [],
   "source": [
    "#Kyle's error trace\n",
    "def calculate_edit_type_and_edit(input_word, candidate_word):\n",
    "    if len(input_word) == len(candidate_word):\n",
    "        # Check for substitution\n",
    "        diff_count = 0\n",
    "        edit_type = \"sub\"\n",
    "        edit = \"\"\n",
    "        for i in range(len(input_word)):\n",
    "            if input_word[i] != candidate_word[i]:\n",
    "                diff_count += 1\n",
    "                edit = input_word[i] + \"|\"\n",
    "                edit += candidate_word[i]\n",
    "        if diff_count == 1:\n",
    "            return edit_type, edit\n",
    "\n",
    "    elif len(input_word) + 1 == len(candidate_word):\n",
    "        # Check for insertion\n",
    "        edit_type = \"ins\"\n",
    "        edit = \"\"\n",
    "        i, j = 0, 0\n",
    "        if candidate_word[0:-1] == input_word:\n",
    "            edit +=  input_word[-1] + \"|\" + candidate_word[-2] + candidate_word[-1]\n",
    "            return edit_type, edit\n",
    "        else:\n",
    "            while i < len(input_word) and j < len(candidate_word):\n",
    "                if input_word[i] != candidate_word[j]:\n",
    "                    edit += input_word[j-1] + \"|\" + input_word[j-1] + candidate_word[j]\n",
    "                    j += 1\n",
    "                else:\n",
    "                    i += 1\n",
    "                    j += 1\n",
    "            if j == len(candidate_word):\n",
    "                return edit_type, edit\n",
    "\n",
    "    elif len(input_word) - 1 == len(candidate_word):\n",
    "        # Check for deletion\n",
    "        edit_type = \"del\"\n",
    "        edit = \"\"\n",
    "        i, j = 0, 0\n",
    "        if input_word[0:-1] == candidate_word:\n",
    "            edit += input_word[-1] + input_word[-2] + \"|\" + candidate_word[-1]\n",
    "            return edit_type, edit\n",
    "        else:\n",
    "            while i < len(input_word) and j < len(candidate_word):\n",
    "                if input_word[i] != candidate_word[j]:\n",
    "                    edit += input_word[i-1] + input_word[i] + \"|\" + candidate_word[i - 1]\n",
    "                    i += 1\n",
    "                else:\n",
    "                    i += 1\n",
    "                    j += 1\n",
    "        if i == len(input_word):\n",
    "            return edit_type, edit\n",
    "\n",
    "    # Check for transposition\n",
    "    if len(input_word) == len(candidate_word) and input_word != candidate_word:\n",
    "        for i in range(len(input_word) - 1):\n",
    "            if input_word[i] == candidate_word[i + 1] and input_word[i + 1] == candidate_word[i]:\n",
    "                edit_type = \"trans\"\n",
    "                edit = candidate_word[i:i+2] + \"|\" + input_word[i:i+2]\n",
    "                return edit_type, edit\n",
    "\n",
    "    return None, None  # No valid edit type found\n",
    "\n"
   ]
  },
  {
   "cell_type": "code",
   "execution_count": 98,
   "metadata": {
    "colab": {
     "base_uri": "https://localhost:8080/"
    },
    "id": "cvwNrM9xb9-k",
    "outputId": "366715c4-6dde-438d-846d-be69d72ad7a7"
   },
   "outputs": [
    {
     "name": "stdout",
     "output_type": "stream",
     "text": [
      "Requirement already satisfied: editdistpy in c:\\python39\\lib\\site-packages (0.1.3)\n",
      "Note: you may need to restart the kernel to use updated packages.\n"
     ]
    },
    {
     "name": "stderr",
     "output_type": "stream",
     "text": [
      "WARNING: Ignoring invalid distribution -ip (c:\\python39\\lib\\site-packages)\n",
      "WARNING: Ignoring invalid distribution -ip (c:\\python39\\lib\\site-packages)\n",
      "\n",
      "[notice] A new release of pip is available: 23.2.1 -> 23.3.1\n",
      "[notice] To update, run: python.exe -m pip install --upgrade pip\n"
     ]
    }
   ],
   "source": [
    "%pip install editdistpy\n",
    "from editdistpy import damerau_osa as ld\n",
    "def spell_correct(input, all_words):\n",
    "      if input in all_words:\n",
    "          print(lang.index)\n",
    "          return lang[lang['word']==input]\n",
    "      d = 1\n",
    "      candidate_list = []\n",
    "      while not candidate_list:\n",
    "          candidate_list = (w for w in all_words if ld.distance(input,w,d) > -1)\n",
    "          d+=1\n",
    "      probable = lang.loc[lang['word'].isin(candidate_list)].sort_values(['P'], ascending=False)\n",
    "      return probable\n",
    "\n",
    "\n",
    "\n",
    "def get_candidates(input,all_words,k) :\n",
    "    def make_df(row):\n",
    "        wordP = row['P']\n",
    "        edit_type, edit = calculate_edit_type_and_edit(input, row['word'])\n",
    "        try:\n",
    "            editP = err.loc[err['error'] == edit,'P'].item()\n",
    "        except:\n",
    "            editP = 0\n",
    "        return pd.Series({'Word' : input, 'candidate' : row['word'], 'edit_type' : edit_type, 'edit' : edit, 'P(c)' : wordP, 'P(w|c)' : editP, 'P(c) x P(w|c)' : (wordP * editP)})\n",
    "    if  input in  all_words:\n",
    "        print(\"Word is spelled correctly\")\n",
    "        return\n",
    "\n",
    "    c = spell_correct(input, all_words)\n",
    "    df = pd.DataFrame(columns=['Word', 'candidate', 'edit_type', 'edit', 'P(c)', 'P(w|c)', 'P(c) x P(w|c)'])\n",
    "    temp = c.apply(make_df,axis = 1)\n",
    "\n",
    "    df = pd.concat([df, temp])\n",
    "    print(df.nlargest(k,'P(c) x P(w|c)'))\n"
   ]
  },
  {
   "cell_type": "code",
   "execution_count": 99,
   "metadata": {
    "colab": {
     "base_uri": "https://localhost:8080/"
    },
    "id": "XZatsMtRb9-k",
    "outputId": "8ebbfa55-0825-4237-a731-5b0345df735d"
   },
   "outputs": [
    {
     "name": "stdin",
     "output_type": "stream",
     "text": [
      "User Input:  theeee\n",
      "Maximum Candidates:  11\n"
     ]
    },
    {
     "name": "stdout",
     "output_type": "stream",
     "text": [
      "         Word candidate edit_type              edit          P(c)    P(w|c)  \\\n",
      "38469  theeee    theefe       sub               e|f  4.682963e-07  0.000051   \n",
      "221    theeee     there       del      ee|eee|ree|e  2.987731e-03  0.000000   \n",
      "10354  theeee      thee      None              None  2.251100e-03  0.000000   \n",
      "146    theeee     these       del      ee|eee|see|e  1.334645e-03  0.000000   \n",
      "472    theeee     three       del  he|hee|ree|eee|e  5.750679e-04  0.000000   \n",
      "7862   theeee    thence      None              None  1.119228e-04  0.000000   \n",
      "35105  theeee     heere       del      et|eee|ree|e  6.322001e-05  0.000000   \n",
      "3138   theeee    cheese     trans             ee|ee  1.123911e-05  0.000000   \n",
      "9038   theeee     theme       del      ee|eee|mee|e  8.429334e-06  0.000000   \n",
      "38666  theeee    themes      None              None  5.151260e-06  0.000000   \n",
      "21462  theeee    threes     trans             ee|ee  3.278074e-06  0.000000   \n",
      "\n",
      "       P(c) x P(w|c)  \n",
      "38469   2.397033e-11  \n",
      "221     0.000000e+00  \n",
      "10354   0.000000e+00  \n",
      "146     0.000000e+00  \n",
      "472     0.000000e+00  \n",
      "7862    0.000000e+00  \n",
      "35105   0.000000e+00  \n",
      "3138    0.000000e+00  \n",
      "9038    0.000000e+00  \n",
      "38666   0.000000e+00  \n",
      "21462   0.000000e+00  \n"
     ]
    }
   ],
   "source": [
    "#main function\n",
    "test_input = input(\"User Input: \").lower()\n",
    "\n",
    "k = input(\"Maximum Candidates: \")\n",
    "#get_candidates(test_input,all_words,k)\n",
    "get_candidates(test_input,all_words,int(k))"
   ]
  },
  {
   "cell_type": "code",
   "execution_count": null,
   "metadata": {},
   "outputs": [],
   "source": []
  }
 ],
 "metadata": {
  "colab": {
   "provenance": []
  },
  "kernelspec": {
   "display_name": "Python 3 (ipykernel)",
   "language": "python",
   "name": "python3"
  },
  "language_info": {
   "codemirror_mode": {
    "name": "ipython",
    "version": 3
   },
   "file_extension": ".py",
   "mimetype": "text/x-python",
   "name": "python",
   "nbconvert_exporter": "python",
   "pygments_lexer": "ipython3",
   "version": "3.9.4"
  },
  "vscode": {
   "interpreter": {
    "hash": "8f4b3deeac0a5ce6c43bde11bfee6a0d7b0549337061a7646d07811ade3818cd"
   }
  }
 },
 "nbformat": 4,
 "nbformat_minor": 4
}
